{
 "cells": [
  {
   "cell_type": "code",
   "execution_count": null,
   "metadata": {},
   "outputs": [],
   "source": [
    "import pandas as pd\n",
    "\n",
    "election_data = pd.DataFrame({\n",
    "    \"State\": [\"Madhya Pradesh\", \"Madhya Pradesh\", \"Madhya Pradesh\", \"Madhya Pradesh\", \"Rajasthan\", \"Rajasthan\", \"Rajasthan\", \"Rajasthan\"],\n",
    "    \"Party\": [\"BJP\", \"INC\", \"BSP\", \"Others\", \"BJP\", \"INC\", \"BSP\", \"Others\"],\n",
    "    \"Seats_Won\": [163, 66, 0, 1, 115, 69, 2, 13],\n",
    "    \"Total_Seats\": [230, 230, 230, 230, 200, 200, 200, 200],\n",
    "    \"Voter_Turnout (%)\": [72.1, 72.1, 72.1, 72.1, 74.2, 74.2, 74.2, 74.2]\n",
    "})\n",
    "try:\n",
    "    pd.read_csv('election_data.csv')\n",
    "except FileNotFoundError:\n",
    "    election_data.to_csv('election_data.csv')"
   ]
  },
  {
   "cell_type": "code",
   "execution_count": null,
   "metadata": {},
   "outputs": [],
   "source": [
    "df=pd.read_csv('election_data.csv')\n",
    "df['Seats_Percentage']=(df['Seats_Won']/df['Total_Seats'])*100\n",
    "df.head()"
   ]
  },
  {
   "cell_type": "code",
   "execution_count": null,
   "metadata": {},
   "outputs": [],
   "source": [
    "temp=df.pivot(index='State', columns='Party' , values='Seats_Won')\n",
    "temp"
   ]
  },
  {
   "cell_type": "code",
   "execution_count": null,
   "metadata": {},
   "outputs": [],
   "source": [
    "q=temp.idxmax(axis=1)\n",
    "res=pd.DataFrame(q,columns=['Winning_Party'])\n",
    "res.head()"
   ]
  },
  {
   "cell_type": "code",
   "execution_count": null,
   "metadata": {},
   "outputs": [],
   "source": [
    "import matplotlib.pyplot as plt\n",
    "temp.plot(kind='bar')\n",
    "plt.ylabel('Seats Won')\n",
    "plt.title(\" ELECTION RESULTS\")\n",
    "plt.xticks(rotation=0)"
   ]
  }
 ],
 "metadata": {
  "language_info": {
   "name": "python"
  }
 },
 "nbformat": 4,
 "nbformat_minor": 2
}
