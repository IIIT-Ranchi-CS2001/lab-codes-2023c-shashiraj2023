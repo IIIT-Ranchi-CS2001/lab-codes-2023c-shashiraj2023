{
 "cells": [
  {
   "cell_type": "code",
   "execution_count": null,
   "metadata": {},
   "outputs": [],
   "source": [
    "#LAB 7 QUES.1\n",
    "import matplotlib.pyplot as plt\n",
    "parties = ['BJP', 'INC', 'BSP', 'Others']\n",
    "mp_seats = [163, 66, 0, 1]\n",
    "rajasthan_seats = [69, 115, 2, 13]\n",
    "plt.pie(mp_seats, labels=parties, autopct=\"%1.2f%%\", explode=[0.1 if seat == max(mp_seats) else 0 for seat in mp_seats], colors=[\"#ff7b00\", \"blue\", \"pink\", \"gray\"])\n",
    "plt.legend()\n",
    "plt.title(\"Madhya Pradesh\")\n",
    "plt.show()\n",
    "\n",
    "plt.pie(rajasthan_seats, labels=parties, autopct=\"%1.2f%%\", explode=[0.1 if seat == max(rajasthan_seats) else 0 for seat in rajasthan_seats], colors=[\"#ff7b00\", \"blue\", \"pink\", \"gray\"])\n",
    "plt.legend()\n",
    "plt.title(\"Rajasthan\")\n",
    "plt.show()"
   ]
  },
  {
   "cell_type": "code",
   "execution_count": null,
   "metadata": {},
   "outputs": [],
   "source": [
    "import matplotlib.pyplot as plt\n",
    "fig = plt.figure(figsize=(8, 4), dpi=144)\n",
    "ax = fig.add_subplot(121)\n",
    "ax.pie(mp_seats, labels=parties, autopct=\"%1.2f%%\", explode=[0.1 if seat == max(mp_seats) else 0 for seat in mp_seats], colors=[\"#ff7b00\", \"blue\", \"pink\", \"gray\"])\n",
    "ax.legend()\n",
    "ax.set_title(\"Madhya Pradesh\")\n",
    "ax=fig.add_subplot(122)\n",
    "ax.pie(rajasthan_seats, labels=parties, autopct=\"%1.2f%%\", explode=[0.1 if seat == max(rajasthan_seats) else 0 for seat in rajasthan_seats], colors=[\"#ff7b00\", \"blue\", \"pink\", \"gray\"])\n",
    "ax.legend()\n",
    "ax.set_title(\"Rajasthan\")"
   ]
  },
  {
   "cell_type": "code",
   "execution_count": null,
   "metadata": {},
   "outputs": [],
   "source": [
    "import matplotlib.pyplot as plt\n",
    "plt.bar(parties, mp_seats, width=0.4)\n",
    "plt.bar([0.4, 1.4, 2.4, 3.4], rajasthan_seats, width=0.4)\n",
    "plt.legend([\"Madhya Pradesh\", \"Rajasthan\"])\n",
    "plt.show()"
   ]
  },
  {
   "cell_type": "code",
   "execution_count": null,
   "metadata": {},
   "outputs": [],
   "source": [
    "#LAB 7 QUES.2\n",
    "import random\n",
    "import math\n",
    "import matplotlib.pyplot as plt\n",
    "def isPrime(num: int) -> bool:\n",
    "    if(num == 0 or num == 1):\n",
    "        return False\n",
    "    for i in range(2, num):\n",
    "        if(num % i == 0):\n",
    "            return False\n",
    "    return True\n",
    "k = int(input(\"Enter K: \"))\n",
    "n = int(input(\"Enter N: \"))\n",
    "if(k < 10):\n",
    "    print(\"Minimum value of k should be 10\")\n",
    "    exit()\n",
    "numlist = [math.floor(random.random() * n) + 1 for i in range(k)]\n",
    "primes = list(filter(isPrime, numlist))\n",
    "composites = list(filter(lambda n: not isPrime(n) and n != 0 and n != 1, numlist))\n",
    "primesquares = list(map(lambda n: n ** 2, primes))\n",
    "compositeroots = list(map(lambda n: n ** 0.5, composites))\n",
    "fig = plt.figure(figsize=(8, 4), dpi=144)\n",
    "ax=fig.add_subplot(121)\n",
    "ax.set_title(\"Primes vs Squares\")\n",
    "ax.scatter(primes, primesquares)\n",
    "ax=fig.add_subplot(122)\n",
    "ax.set_title(\"Composites vs Square Roots\")\n",
    "ax.scatter(composites, compositeroots)"
   ]
  }
 ],
 "metadata": {
  "language_info": {
   "name": "python"
  }
 },
 "nbformat": 4,
 "nbformat_minor": 2
}
