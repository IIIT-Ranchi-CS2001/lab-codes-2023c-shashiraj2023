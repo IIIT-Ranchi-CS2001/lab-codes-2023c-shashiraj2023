{
 "cells": [
  {
   "cell_type": "code",
   "execution_count": null,
   "metadata": {},
   "outputs": [],
   "source": [
    "#LAB-3 QUES.1\n",
    "num = int(input(\"Enter number: \"))\n",
    "print(\"Number \\t Square\")\n",
    "for i in range(1, num+1):\n",
    "    print(str(i) + \"\\t\" + str(i * i))"
   ]
  },
  {
   "cell_type": "code",
   "execution_count": null,
   "metadata": {},
   "outputs": [],
   "source": [
    "#LAB-3 QUES.2\n",
    "num = int(input(\"Enter the number: \"))\n",
    "nc = num\n",
    "sum = 0\n",
    "while(nc > 0):\n",
    "    d = nc % 10\n",
    "    nc //= 10\n",
    "    sum += d\n",
    "print(\"Number: \" + str(num) + \"\\nSum of digits: \" + str(sum))"
   ]
  },
  {
   "cell_type": "code",
   "execution_count": null,
   "metadata": {},
   "outputs": [],
   "source": [
    "#LAB-3 QUES.3\n",
    "n = int(input(\"Enter number of terms to print: \"))\n",
    "pt = 0\n",
    "ct = 1\n",
    "sequence = [0, 1]\n",
    "if(n == 1):\n",
    "    sequence = [0]\n",
    "for i in range(1, n-1):\n",
    "    nct = pt + ct\n",
    "    pt = ct\n",
    "    ct = nct\n",
    "    sequence.append(ct)\n",
    "print(sequence)"
   ]
  },
  {
   "cell_type": "code",
   "execution_count": null,
   "metadata": {},
   "outputs": [],
   "source": [
    "#LAB-3 QUES.4\n",
    "n = int(input(\"Enter the number to print multiplication table of: \"))\n",
    "t = int(input(\"Enter the limit upto which table should be printed: \"))\n",
    "for i in range(1, t+1):\n",
    "    print(str(n) + \" x \" + str(i) + \" = \" + str(n * i))"
   ]
  },
  {
   "cell_type": "code",
   "execution_count": null,
   "metadata": {},
   "outputs": [],
   "source": [
    "#LAB-3 QUES.5\n",
    "string = input(\"Enter the string to check: \")\n",
    "for i in string:\n",
    "    if(i.isalnum()):\n",
    "        pass\n",
    "    else:\n",
    "        print(False)\n",
    "        break\n",
    "else:\n",
    "    print(True)\n"
   ]
  },
  {
   "cell_type": "code",
   "execution_count": null,
   "metadata": {},
   "outputs": [],
   "source": [
    "#LAB-3 QUES.6\n",
    "string = input(\"Enter the string: \")\n",
    "char = input(\"Enter the character to count\")\n",
    "count = 0\n",
    "for c in string:\n",
    "    if(c == char):\n",
    "        count += 1\n",
    "print(char + \" appears \" + str(count) + \" times in the string.\")"
   ]
  }
 ],
 "metadata": {
  "language_info": {
   "name": "python"
  }
 },
 "nbformat": 4,
 "nbformat_minor": 2
}
