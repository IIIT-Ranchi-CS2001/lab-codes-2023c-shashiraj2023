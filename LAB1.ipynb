{
 "cells": [
  {
   "cell_type": "code",
   "execution_count": null,
   "metadata": {},
   "outputs": [],
   "source": [
    "#LAB 1 QUES.1\n",
    "print(\"Enter two numbers: \")\n",
    "a = int(input())\n",
    "b = int(input())\n",
    "\n",
    "print(\"Sum: \" + str(a + b))\n",
    "print(\"Difference: \" + str(a - b))\n",
    "print(\"Product: \" + str(a * b))\n",
    "print(\"Integer Quotient: \" + str(a // b))\n",
    "print(\"Remainder: \" + str(a % b))\n",
    "print(\"Fractional Quotient: \" + str(a / b))"
   ]
  },
  {
   "cell_type": "code",
   "execution_count": null,
   "metadata": {},
   "outputs": [],
   "source": [
    "#LAB 1 QUES.2\n",
    "import math\n",
    "\n",
    "print(\"Enter sides of triangle\")\n",
    "a = float(input())\n",
    "b = float(input())\n",
    "c = float(input())\n",
    "\n",
    "print(\"Sides: \" + str(a) + \", \" + str(b) + \", \" + str(c))\n",
    "\n",
    "s = (a + b + c) / 2\n",
    "area = math.sqrt(s * (s - a) * (s - b) * (s - c))\n",
    "\n",
    "cosA = (b**2 + c**2 - a**2) / (2 * b * c)\n",
    "cosB = (a**2 + c**2 - b**2) / (2 * a * c)\n",
    "cosC = (a**2 + b**2 - c**2) / (2 * a * b)\n",
    "\n",
    "angleA = math.degrees(math.acos(cosA))\n",
    "angleB = math.degrees(math.acos(cosB))\n",
    "angleC = math.degrees(math.acos(cosC))\n",
    "\n",
    "print(\"Area of triangle: \" + str(area))\n",
    "print(\"Angles: \" + str(angleA) + \", \" + str(angleB) + \", \" + str(angleC))"
   ]
  },
  {
   "cell_type": "code",
   "execution_count": null,
   "metadata": {},
   "outputs": [],
   "source": [
    "#LAB 1 QUES.3\n",
    "cel = float(input(\"Enter temperature in Celsius: \"))\n",
    "feh = cel * 1.8 + 32\n",
    "print(\"Temperature in fahrenhite is \" + str(feh))"
   ]
  }
 ],
 "metadata": {
  "language_info": {
   "name": "python"
  }
 },
 "nbformat": 4,
 "nbformat_minor": 2
}
