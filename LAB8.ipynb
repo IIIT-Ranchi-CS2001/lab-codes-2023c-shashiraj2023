{
 "cells": [
  {
   "cell_type": "code",
   "execution_count": null,
   "metadata": {},
   "outputs": [],
   "source": [
    "#lab 8 Ques.1\n",
    "import numpy as np\n",
    "a = np.array([\n",
    "    [44, 38, 21],\n",
    "    [32, 28, 15],\n",
    "    [24, 20, 10]\n",
    "])\n",
    "\n",
    "b = np.array([\n",
    "    [1412],\n",
    "    [1024],\n",
    "    [728]\n",
    "])\n",
    "\n",
    "x = np.dot(np.linalg.inv(a), b)\n",
    "print(f\"No of males: {np.round(x[0, 0])}\")\n",
    "print(f\"No of females: {np.round(x[1, 0])}\")\n",
    "print(f\"No of kids: {np.round(x[2, 0])}\")"
   ]
  },
  {
   "cell_type": "code",
   "execution_count": null,
   "metadata": {},
   "outputs": [],
   "source": [
    "#lab 8 Ques.2\n",
    "import numpy as np\n",
    "\n",
    "shapea1 = tuple(list(int(i) for i in input(\"Enter shape of matrix A1: \").split()))\n",
    "shapea2 = tuple(list(int(i) for i in input(\"Enter shape of matrix A2: \").split()))\n",
    "\n",
    "A1 = np.empty(shapea1)\n",
    "A2 = np.empty(shapea2)\n",
    "\n",
    "for layer in A1:\n",
    "    for row in layer:\n",
    "        for idx, element in enumerate(row):\n",
    "            row[idx] = np.random.randint(0, 1000)\n",
    "for layer in A2:\n",
    "    for row in layer:\n",
    "        for idx, element in enumerate(row):\n",
    "            row[idx] = np.random.randint(0, 1000)\n",
    "\n",
    "A1flat = A1.flatten()\n",
    "A1div5 = A1flat[A1flat % 5 == 0]\n",
    "\n",
    "A2flat = A2.flatten()\n",
    "A2div4 = A2flat[A2flat % 4 == 0]\n",
    "\n",
    "combined = np.concatenate((A1div5, A2div4))\n",
    "if(len(combined) ** (1/2) == int(len(combined) ** (1/2))):\n",
    "    sqmat = combined.reshape((int(len(combined) ** (1/2)), int(len(combined) ** (1/2))))\n",
    "else:\n",
    "    print(\"Length of combined matrices cannot be formed into a square.\")\n",
    "\n",
    "print(sqmat)"
   ]
  },
  {
   "cell_type": "code",
   "execution_count": null,
   "metadata": {},
   "outputs": [],
   "source": [
    "#lab 8 Ques.3\n",
    "import numpy as np\n",
    "\n",
    "def Create_Array(*args):\n",
    "    mat = np.zeros((len(args), len(args)))\n",
    "    for i in range(len(args)):\n",
    "        mat[i, i] = args[i]\n",
    "\n",
    "    return mat\n",
    "\n",
    "print(Create_Array(1, 2, 3, 4))"
   ]
  }
 ],
 "metadata": {
  "language_info": {
   "name": "python"
  }
 },
 "nbformat": 4,
 "nbformat_minor": 2
}
