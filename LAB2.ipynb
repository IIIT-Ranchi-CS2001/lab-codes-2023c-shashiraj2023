{
 "cells": [
  {
   "cell_type": "code",
   "execution_count": null,
   "metadata": {},
   "outputs": [],
   "source": [
    "#LAB 2 QUES.1\n",
    "s = \"Maha Bharat\"\n",
    "s1 = s.swapcase()\n",
    "print(s1)\n",
    "s2 = s[5:len(s)]\n",
    "print(s2)\n",
    "s3 = s2 * 3\n",
    "print(s3)\n",
    "s4 = \"Mera \" + s2\n",
    "print(s4)\n",
    "s5 = s4 + \" \" + s[0:4] + \"n\"\n",
    "print(s5)"
   ]
  },
  {
   "cell_type": "code",
   "execution_count": null,
   "metadata": {},
   "outputs": [],
   "source": [
    "#LAB 2 QUES.2\n",
    "s = \"Ba Ba Black Sheep\"\n",
    "\n",
    "print(\"Length of string: \" + str(len(s)))\n",
    "print(\"e appears first at index \" + str(s.find(\"e\")))\n",
    "print(\"a appears \" + str(s.count(\"a\")) + \" times.\")\n",
    "ns = \"T\" + s[1:3] + \"T\" + s[4:len(s)]\n",
    "print(ns)"
   ]
  },
  {
   "cell_type": "code",
   "execution_count": null,
   "metadata": {},
   "outputs": [],
   "source": [
    "#LAB 2 QUES.3\n",
    "s = input(\"Enter the string to check\")\n",
    "isPalindrome = True\n",
    "for i in range(0, len(s)):\n",
    "    if(s[i] != s[len(s) - i - 1]):\n",
    "        isPalindrome = False\n",
    "\n",
    "if(isPalindrome):\n",
    "    print(\"The string is a palindrome.\")\n",
    "else:\n",
    "    print(\"The string is not a palindrome.\")"
   ]
  },
  {
   "cell_type": "code",
   "execution_count": null,
   "metadata": {},
   "outputs": [],
   "source": [
    "\n",
    "#LAB 2 QUES.4\n",
    "name = input(\"Enter Name: \")\n",
    "roll = int(input(\"Enter Roll Number: \"))\n",
    "marks = int(input(\"Enter marks obtained: \"))\n",
    "\n",
    "gradepoint = 0\n",
    "remark = \"FAIL\"\n",
    "\n",
    "if(marks >= 90):\n",
    "    gradepoint = 10\n",
    "    remark = \"OUTSTANDING\"\n",
    "elif(marks >= 80):\n",
    "    gradepoint = 9\n",
    "    remark = \"VERY GOOD\"\n",
    "elif(marks >= 70):\n",
    "    gradepoint = 8\n",
    "    remark = \"GOOD\"\n",
    "elif(marks >= 60):\n",
    "    gradepoint = 7\n",
    "    remark = \"AVERAGE\"\n",
    "elif(marks >= 50):\n",
    "    gradepoint = 6\n",
    "    remark = \"PASS\"\n",
    "\n",
    "print(\"Name: \" + name)\n",
    "print(\"Roll Number: \" + str(roll))\n",
    "print(\"Marks: \" + str(marks))\n",
    "print(\"Grade Point: \" + str(gradepoint))\n",
    "print(\"Remark: \" + remark)"
   ]
  },
  {
   "cell_type": "code",
   "execution_count": null,
   "metadata": {},
   "outputs": [],
   "source": [
    "#LAB 2 QUES.5\n",
    "import math\n",
    "print(\"Enter Coefficients: \")\n",
    "a = int(input(\"Coefficient a: \"))\n",
    "b = int(input(\"Coefficient b: \"))\n",
    "c = int(input(\"Coefficient c: \"))\n",
    "d = b * b - 4 * a * c\n",
    "if(d >= 0):\n",
    "    r1 = (-b + math.sqrt(d)) / (2 * a)\n",
    "    r2 = (-b - math.sqrt(d)) / (2 * a)\n",
    "else:\n",
    "    r1 = complex(-b/2*a, (math.sqrt(-d) / 2 * a))\n",
    "    r2 = complex(-b/2*a, (-math.sqrt(-d) / 2 * a))\n",
    "print(\"Roots are \" + str(r1) + \" and \" + str(r2) + \".\")"
   ]
  }
 ],
 "metadata": {
  "language_info": {
   "name": "python"
  }
 },
 "nbformat": 4,
 "nbformat_minor": 2
}
