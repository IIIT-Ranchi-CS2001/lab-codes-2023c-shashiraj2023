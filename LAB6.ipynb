{
 "cells": [
  {
   "cell_type": "code",
   "execution_count": null,
   "metadata": {},
   "outputs": [],
   "source": [
    "#LAB 6 QUES.1\n",
    "def my_zip(*args: list, strct: bool = False) -> list:\n",
    "    if(strct and False in [len(args[i]) == len(args[i+1]) for i in range(len(args) - 1)]):\n",
    "        print(\"ERROR: Unequal length of iterators\")\n",
    "        return None\n",
    "    n = min([len(iterable) for iterable in args])\n",
    "    listoftuples = list(tuple(iterable[i] for iterable in args) for i in range(n))\n",
    "    return listoftuples\n",
    "customerName = [\"Gyan\", \"Prakash\", \"Shubham\"]\n",
    "customerId = [1, 2, 3]\n",
    "shoppingPoints = [\"Kolkata market\", \"Judio\"]\n",
    "\n",
    "zippedlist = my_zip(customerName, customerId, shoppingPoints)\n",
    "\n",
    "print(zippedlist)"
   ]
  },
  {
   "cell_type": "code",
   "execution_count": null,
   "metadata": {},
   "outputs": [],
   "source": [
    "#LAB 6 QUES.2\n",
    "def my_sort(zipped_list: list, key: int = 0) -> list:\n",
    "    sorted_zipped_list = [t for t in zipped_list]  #deep copy\n",
    "    for i in range(len(sorted_zipped_list)):\n",
    "        for j in range(i, len(sorted_zipped_list)):\n",
    "            if(sorted_zipped_list[i][key] > sorted_zipped_list[j][key]):\n",
    "                sorted_zipped_list[i], sorted_zipped_list[j] = sorted_zipped_list[j], sorted_zipped_list[i]\n",
    "    return sorted_zipped_list\n",
    "print(my_sort(zippedlist, 2))"
   ]
  },
  {
   "cell_type": "code",
   "execution_count": null,
   "metadata": {},
   "outputs": [],
   "source": [
    "#LAB 6 QUES.3\n",
    "import math\n",
    "def my_max(iterable: list | tuple | set) -> int:\n",
    "    max: int = -math.inf\n",
    "    for i in iterable:\n",
    "        if i > max:\n",
    "            max = i\n",
    "    return max\n",
    "print(my_max({1, 2, 3, 4, 5}))"
   ]
  },
  {
   "cell_type": "code",
   "execution_count": null,
   "metadata": {},
   "outputs": [],
   "source": [
    "#LAB 6 QUES.4\n",
    "strings = [i for i in input(\"Enter strings\").split()]\n",
    "allletters = list(map(lambda string: string.upper(), filter(lambda string: string.isalpha(), strings)))\n",
    "alldigits = list(map(lambda num: int(num) * int(num), filter(lambda string: string.isdigit(), strings)))\n",
    "allalnum = list(filter(lambda string: string.isalnum(), strings))\n",
    "print(f\"All Letters: {allletters}\")\n",
    "print(f\"All Digits: {alldigits}\")\n",
    "print(f\"All Alphanumeric: {allalnum}\")"
   ]
  }
 ],
 "metadata": {
  "language_info": {
   "name": "python"
  }
 },
 "nbformat": 4,
 "nbformat_minor": 2
}
