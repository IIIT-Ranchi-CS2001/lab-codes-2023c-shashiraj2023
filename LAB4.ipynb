{
 "cells": [
  {
   "cell_type": "code",
   "execution_count": null,
   "metadata": {},
   "outputs": [],
   "source": [
    "#LAB-4 QUES.1\n",
    "sentence: str = input(\"Enter the sentence: \")\n",
    "words: list = sentence.split(\" \")\n",
    "count: int = 0\n",
    "for word in words:\n",
    "    isPalindrome: bool = True\n",
    "    for i in range(0, len(word)):\n",
    "        if(word[i] != word[len(word) - i - 1]):\n",
    "            isPalindrome = False\n",
    "            break\n",
    "    if(isPalindrome):\n",
    "        count = count + 1\n",
    "print(\"There are %d palindromes in the sentence\" % count)"
   ]
  },
  {
   "cell_type": "code",
   "execution_count": null,
   "metadata": {},
   "outputs": [],
   "source": [
    "#LAB-4 QUES.2\n",
    "nums = [int(num) for num in input(\"Enter numbers(space separated): \").split(\" \")]\n",
    "print(nums)\n",
    "mean = sum(nums) / len(nums)\n",
    "median = sorted(nums)[len(nums) // 2] if (len(nums) % 2 != 0) else (sorted(nums)[len(nums) // 2] + sorted(nums)[len(nums) // 2 - 1]) / 2\n",
    "mode = 0\n",
    "maxfreq = 0\n",
    "for e in nums:\n",
    "    if(nums.count(e) > maxfreq):\n",
    "        maxfreq = nums.count(mode)\n",
    "        mode = e\n",
    "print(\"Mean: %f\\nMedian: %f\\nMode: %d\\n\" % (mean, median, mode))"
   ]
  },
  {
   "cell_type": "code",
   "execution_count": null,
   "metadata": {},
   "outputs": [],
   "source": [
    "#LAB-4 QUES.3\n",
    "course_code = [\"CS2001\", \"MA2001\", \"CS2003\", \"CS2005\", \"CS2007\", \"HS2001\", \"CS2101\", \"CS2103\", \"CS2107\"]\n",
    "course_name = [\"Python\", \"Mathematics\", \"COA\", \"TOC\", \"FOA\", \"Management\", \"Python Lab\", \"COA Lab\", \"Algorithms Lab\"]\n",
    "courses = [cc + \":\" + cn for (cc, cn) in tuple(zip(course_code, course_name))]\n",
    "print(courses)"
   ]
  },
  {
   "cell_type": "code",
   "execution_count": null,
   "metadata": {},
   "outputs": [],
   "source": [
    "#LAB-4 QUES.4\n",
    "singers = {\"Shubham\", \"Aagaman\", \"Amrit Sagar\", \"Gyan Prakash\"}\n",
    "dancers = {\"ss groups pvt ltd\", \"Aagaman\", \"Ankur\", \"Hitesh\"}\n",
    "print(\"Allrounders: \" + str(singers & dancers))\n",
    "print(\"Dancers but not singers: \" + str(dancers - singers))\n",
    "print(\"Singers but not dancers: \" + str(singers - dancers))\n",
    "print(\"Dancers but not singers cum singers but not dancers: \" + str((dancers - singers) | (singers - dancers)))"
   ]
  }
 ],
 "metadata": {
  "language_info": {
   "name": "python"
  }
 },
 "nbformat": 4,
 "nbformat_minor": 2
}
