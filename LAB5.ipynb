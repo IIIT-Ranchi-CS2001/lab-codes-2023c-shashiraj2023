{
 "cells": [
  {
   "cell_type": "code",
   "execution_count": null,
   "metadata": {},
   "outputs": [],
   "source": [
    "#LAB 5 QUES.1\n",
    "p1 = tuple(int(i) for i in input(\"Enter first point: \").split())\n",
    "p2 = tuple(int(i) for i in input(\"Enter second point: \").split())\n",
    "distance = ((p2[0] - p1[0])**2 + (p2[1] - p1[1])**2 + (p2[2] - p1[2])**2)**(1/2)\n",
    "print(\"Distance: \" + str(distance))"
   ]
  },
  {
   "cell_type": "code",
   "execution_count": null,
   "metadata": {},
   "outputs": [],
   "source": [
    "#LAB 5 QUES.2\n",
    "names = [n for n in input().split()]\n",
    "rolls = [int(roll) for roll in input().split()]\n",
    "marks = [int(mark) for mark in input().split()]\n",
    "student_data = list(zip(names, rolls, marks))\n",
    "print(\"Original students data: \" + str(student_data))\n",
    "sorted_student_data = sorted(student_data, key=lambda student: student[2])\n",
    "print(\"Sorted students data: \" + str(sorted_student_data))"
   ]
  },
  {
   "cell_type": "code",
   "execution_count": null,
   "metadata": {},
   "outputs": [],
   "source": [
    "#LAB 5 QUES.3\n",
    "names = [n for n in input().split()]\n",
    "rolls = [int(roll) for roll in input().split()]\n",
    "marks = [int(mark) for mark in input().split()]\n",
    "student_data = [(names[i], rolls[i], marks[i]) for i in range(0, len(rolls))]\n",
    "print(\"Original students data: \" + str(student_data))\n",
    "student_data.sort(key=lambda student: student[2])\n",
    "print(\"Sorted students data: \" + str(student_data))"
   ]
  },
  {
   "cell_type": "code",
   "execution_count": null,
   "metadata": {},
   "outputs": [],
   "source": [
    "#LAB 5 QUES.4\n",
    "string = input(\"Enter the string: \")\n",
    "freq = dict()\n",
    "for l in string:\n",
    "    if(l == ' '):\n",
    "        continue\n",
    "    elif(freq.get(l, \"ERR_LETTER_NOT_EXIST\") == \"ERR_LETTER_NOT_EXIST\"):\n",
    "        freq[l] = 1\n",
    "    else:\n",
    "        freq[l] += 1\n",
    "print(\"Letter Frequency: \" + str(freq))\n"
   ]
  },
  {
   "cell_type": "code",
   "execution_count": null,
   "metadata": {},
   "outputs": [],
   "source": [
    "#LAB 5 QUES.5\n",
    "students = dict()\n",
    "for i in range(0, 5):\n",
    "    name = input(\"Enter name of student %d\" % (i + 1))\n",
    "    mark = int(input(\"Enter marks of student %d\" % (i + 1)))\n",
    "    students[name] = mark\n",
    "print(students)\n",
    "high_performers = dict()\n",
    "average_performers = dict()\n",
    "low_performers = dict()\n",
    "for key in students:\n",
    "    if(students[key] >= 85):\n",
    "        high_performers[key] = students[key]\n",
    "    elif(students[key] >= 60):\n",
    "        average_performers[key] = students[key]\n",
    "    else:\n",
    "        low_performers[key] = students[key]\n",
    "print(\"\\nHigh Performers(%d):\" % len(high_performers))\n",
    "print(high_performers)\n",
    "print(\"\\nAverage Performers(%d):\" % len(average_performers))\n",
    "print(average_performers)\n",
    "print(\"\\nLow Performers(%d):\" % len(low_performers))\n",
    "print(low_performers)\n",
    "topper = max(students, key=lambda key: students[key])\n",
    "print(\"\\nTopper is %s with %d marks.\" % (topper, students[topper]))"
   ]
  },
  {
   "cell_type": "code",
   "execution_count": null,
   "metadata": {},
   "outputs": [],
   "source": [
    "#LAB 5 QUES.6\n",
    "employees = dict()\n",
    "n = int(input(\"Enter number of employees: \"))\n",
    "for i in range(0, n):\n",
    "    name = input(\"Enter name of employee: \")\n",
    "    salary = int(input(\"Enter salary of %s: \" % name))\n",
    "    employees[name] = salary\n",
    "salary_order = list(employees.values())\n",
    "key_order = list(employees.keys())\n",
    "for i in range(0, len(employees)):\n",
    "    for j in range(i + 1, len(employees)):\n",
    "        if(salary_order[i] < salary_order[j]):\n",
    "            salary_order[i], salary_order[j] = salary_order[j], salary_order[i]\n",
    "            key_order[i], key_order[j] = key_order[j], key_order[i]\n",
    "sorted_employees = {key:employees[key] for key in key_order}\n",
    "for i, key in enumerate(sorted_employees):\n",
    "    print(str(i+1) + \". \" + key + \": \" + \"Rs. \" + str(sorted_employees[key]))"
   ]
  }
 ],
 "metadata": {
  "language_info": {
   "name": "python"
  }
 },
 "nbformat": 4,
 "nbformat_minor": 2
}
